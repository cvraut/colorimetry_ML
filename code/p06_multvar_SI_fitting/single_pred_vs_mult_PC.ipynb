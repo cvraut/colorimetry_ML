{
 "cells": [
  {
   "cell_type": "markdown",
   "metadata": {},
   "source": [
    "# Single Predictor Against entire Wavelength (multiple nPCs)"
   ]
  },
  {
   "cell_type": "code",
   "execution_count": 1,
   "metadata": {},
   "outputs": [],
   "source": [
    "import pandas as pd\n",
    "import numpy as np\n",
    "\n",
    "import matplotlib.pyplot as plt\n",
    "import seaborn as sns\n",
    "import plotly.express as px\n",
    "import plotly.graph_objects as go\n",
    "\n",
    "from sklearn.metrics import mean_squared_error, r2_score\n",
    "from sklearn.linear_model import LinearRegression, Lasso\n",
    "from sklearn.neighbors import KNeighborsRegressor\n",
    "from sklearn.ensemble import RandomForestRegressor\n",
    "from sklearn.svm import SVR\n",
    "from sklearn.ensemble import HistGradientBoostingRegressor\n",
    "from sklearn.model_selection import KFold\n",
    "from sklearn.preprocessing import StandardScaler\n",
    "from sklearn.pipeline import make_pipeline\n",
    "from sklearn.cross_decomposition import PLSRegression\n",
    "\n",
    "import optuna\n",
    "\n",
    "from sklearn.decomposition import PCA\n",
    "\n",
    "from tqdm import tqdm"
   ]
  },
  {
   "cell_type": "markdown",
   "metadata": {},
   "source": [
    "# load the data"
   ]
  },
  {
   "cell_type": "markdown",
   "metadata": {},
   "source": [
    "## load matrices"
   ]
  },
  {
   "cell_type": "code",
   "execution_count": 2,
   "metadata": {},
   "outputs": [],
   "source": [
    "# TiTE\n",
    "all_data = {}\n",
    "all_data[\"Ti_TE\"] = pd.read_excel(\"../p04_TE_TM_1D_compare/Ti_TE_matrix.xlsx\", header=None).transpose()\n",
    "all_data[\"Ti_TE\"].columns = [f\"feature_{i+1}\" for i in range(all_data[\"Ti_TE\"].shape[1])]\n",
    "all_data[\"Ti_TE\"][\"target\"] = list(range(1, all_data[\"Ti_TE\"].shape[0] + 1))"
   ]
  },
  {
   "cell_type": "code",
   "execution_count": 3,
   "metadata": {},
   "outputs": [],
   "source": [
    "for dat in [\"Si_TE\", \"Si_TM\", \"Ti_TM\"]:\n",
    "    all_data[dat] = pd.read_excel(f\"./{dat}_matrix.xlsx\", header=None).transpose()\n",
    "    all_data[dat].columns = [f\"feature_{i+1}\" for i in range(all_data[dat].shape[1])]\n",
    "    all_data[dat][\"target\"] = list(range(1, all_data[dat].shape[0] + 1))"
   ]
  },
  {
   "cell_type": "markdown",
   "metadata": {},
   "source": [
    "# build the 5-fold cross validation groups and construct PCs"
   ]
  },
  {
   "cell_type": "code",
   "execution_count": 4,
   "metadata": {},
   "outputs": [],
   "source": [
    "# split the data into 5-folds cross validation\n",
    "kf = KFold(n_splits=5, shuffle=True, random_state=19890417)\n",
    "#kf = KFold(n_splits=5, shuffle=True, random_state=42)\n",
    "PC_folds = {}\n",
    "folds = {} # this will not use PC to reduce the data\n",
    "\n",
    "for dat in all_data.keys():\n",
    "    PC_folds[dat] = []\n",
    "    folds[dat] = []\n",
    "    full_data = all_data[dat].copy()\n",
    "    for train_index, test_index in kf.split(all_data[dat]):\n",
    "        # because this doesn't check for out of range values we need to make sure that we move any 0 or 100 index values from test to train\n",
    "        # if 0 in test_index:\n",
    "        #     test_index = np.delete(test_index, np.where(test_index == 0)[0][0])\n",
    "        #     train_index = np.append(train_index, 0)\n",
    "        # if 100 in test_index:\n",
    "        #     test_index = np.delete(test_index, np.where(test_index == 100)[0][0])\n",
    "        #     train_index = np.append(train_index, 100)\n",
    "        # train_index.sort()\n",
    "        # print(f\"train: {train_index}, test: {test_index}\")\n",
    "        train_data = full_data.iloc[train_index]\n",
    "        test_data = full_data.iloc[test_index]\n",
    "        # first put the raw data into the folds\n",
    "        folds[dat].append((train_data.drop(columns=[\"target\"]), train_data[\"target\"].values, test_data.drop(columns=[\"target\"]), test_data[\"target\"].values))\n",
    "        # now we also want to dimensionally reduce the data into 80 PCs following the training data\n",
    "        pca = PCA(n_components=80, svd_solver='full', random_state=19890417)\n",
    "        # first standardize the data according to the training data\n",
    "        scaler = StandardScaler()\n",
    "        scaler.fit(train_data.drop(columns=[\"target\"]))\n",
    "        train_data_scaled = scaler.transform(train_data.drop(columns=[\"target\"]))\n",
    "        test_data_scaled = scaler.transform(test_data.drop(columns=[\"target\"]))\n",
    "        pca.fit(train_data_scaled)\n",
    "        train_data_pca = pca.transform(train_data_scaled)\n",
    "        test_data_pca = pca.transform(test_data_scaled)\n",
    "        PC_folds[dat].append((train_data_pca, train_data[\"target\"].values, test_data_pca, test_data[\"target\"].values))"
   ]
  },
  {
   "cell_type": "markdown",
   "metadata": {},
   "source": [
    "# Identify best single variate performer for each dataset"
   ]
  },
  {
   "cell_type": "code",
   "execution_count": 5,
   "metadata": {},
   "outputs": [
    {
     "name": "stderr",
     "output_type": "stream",
     "text": [
      "  0%|          | 0/10000 [00:00<?, ?it/s]"
     ]
    },
    {
     "name": "stderr",
     "output_type": "stream",
     "text": [
      "100%|██████████| 10000/10000 [00:40<00:00, 249.84it/s]\n",
      "100%|██████████| 10000/10000 [00:38<00:00, 257.65it/s]\n",
      "100%|██████████| 10000/10000 [00:39<00:00, 255.37it/s]\n",
      "100%|██████████| 10000/10000 [00:35<00:00, 280.78it/s]\n",
      "100%|██████████| 10000/10000 [00:37<00:00, 267.18it/s]\n",
      "100%|██████████| 10000/10000 [00:37<00:00, 268.27it/s]\n",
      "100%|██████████| 10000/10000 [00:39<00:00, 252.22it/s]\n",
      "100%|██████████| 10000/10000 [00:37<00:00, 263.53it/s]\n",
      "100%|██████████| 10000/10000 [00:36<00:00, 274.88it/s]\n",
      "100%|██████████| 10000/10000 [00:27<00:00, 363.52it/s]\n",
      "100%|██████████| 10000/10000 [00:21<00:00, 459.91it/s]\n",
      "100%|██████████| 10000/10000 [00:22<00:00, 446.81it/s]\n",
      "100%|██████████| 10000/10000 [00:22<00:00, 443.11it/s]\n",
      "100%|██████████| 10000/10000 [00:22<00:00, 439.68it/s]\n",
      "100%|██████████| 10000/10000 [00:23<00:00, 424.93it/s]\n",
      "100%|██████████| 10000/10000 [00:21<00:00, 470.83it/s]\n",
      "100%|██████████| 10000/10000 [00:21<00:00, 470.44it/s]\n",
      "100%|██████████| 10000/10000 [00:19<00:00, 523.19it/s]\n",
      "100%|██████████| 10000/10000 [00:19<00:00, 508.82it/s]\n",
      "100%|██████████| 10000/10000 [00:18<00:00, 534.03it/s]\n"
     ]
    }
   ],
   "source": [
    "results_dfs = {}\n",
    "for dat in [\"Ti_TM\", \"Ti_TE\", \"Si_TE\", \"Si_TM\"]:\n",
    "    result_list = []\n",
    "    fold_i = 0\n",
    "    for train_data_pca, train_target, test_data_pca, test_target in folds[dat]:\n",
    "        for feat_i in tqdm(range(train_data_pca.shape[1])):\n",
    "            X_train = train_data_pca[f\"feature_{feat_i+1}\"].to_numpy()\n",
    "            y_train = train_target\n",
    "            X_test = test_data_pca[f\"feature_{feat_i+1}\"].to_numpy()\n",
    "            y_test = test_target\n",
    "            # Fit a linear regression model\n",
    "            model = LinearRegression()\n",
    "            model.fit(X_train.reshape(-1, 1), y_train)\n",
    "            # Make predictions\n",
    "            y_pred = model.predict(X_test.reshape(-1, 1))\n",
    "            # Calculate MSE, R2, RMSE, MAE\n",
    "            mse = mean_squared_error(y_test, y_pred)\n",
    "            r2 = r2_score(y_test, y_pred)\n",
    "            rmse = np.sqrt(mse)\n",
    "            mae = np.mean(np.abs(y_test - y_pred))\n",
    "            # now calculate the same metrics on the training data\n",
    "            y_train_pred = model.predict(X_train.reshape(-1, 1))\n",
    "            mse_train = mean_squared_error(y_train, y_train_pred)\n",
    "            r2_train = r2_score(y_train, y_train_pred)\n",
    "            rmse_train = np.sqrt(mse_train)\n",
    "            mae_train = np.mean(np.abs(y_train - y_train_pred))\n",
    "            # Append results to the list\n",
    "            result_list.append({\n",
    "                \"feature\": f\"feature_{feat_i+1}\",\n",
    "                \"mse\": mse,\n",
    "                \"r2\": r2,\n",
    "                \"rmse\": rmse,\n",
    "                \"mae\": mae,\n",
    "                \"fold\": fold_i,\n",
    "                \"mse.train\": mse_train,\n",
    "                \"r2.train\": r2_train,\n",
    "                \"rmse.train\": rmse_train,\n",
    "                \"mae.train\": mae_train,\n",
    "            })\n",
    "        fold_i += 1\n",
    "    results_dfs[dat] = pd.DataFrame(result_list)\n"
   ]
  },
  {
   "cell_type": "code",
   "execution_count": 6,
   "metadata": {},
   "outputs": [
    {
     "name": "stdout",
     "output_type": "stream",
     "text": [
      "Dataset: Ti_TM\n",
      "Best feature: feature_5094 (train MSE: 0.4017 std (0.0247))\n",
      "Mean MSE: 0.4462 std (0.1050)\n",
      "Mean R2: 0.9994 std (0.0002)\n",
      "Mean RMSE: 0.6636 std (0.0855)\n",
      "Mean MAE: 0.5234 std (0.0653)\n",
      "\n",
      "Dataset: Ti_TE\n",
      "Best feature: feature_4956 (train MSE: 0.0628 std (0.0038))\n",
      "Mean MSE: 0.0655 std (0.0150)\n",
      "Mean R2: 0.9999 std (0.0000)\n",
      "Mean RMSE: 0.2547 std (0.0284)\n",
      "Mean MAE: 0.2151 std (0.0306)\n",
      "\n",
      "Dataset: Si_TE\n",
      "Best feature: feature_390 (train MSE: 0.2336 std (0.0204))\n",
      "Mean MSE: 0.2416 std (0.0866)\n",
      "Mean R2: 0.9997 std (0.0001)\n",
      "Mean RMSE: 0.4853 std (0.0873)\n",
      "Mean MAE: 0.4001 std (0.0558)\n",
      "\n",
      "Dataset: Si_TM\n",
      "Best feature: feature_1206 (train MSE: 0.1355 std (0.0089))\n",
      "Mean MSE: 0.1417 std (0.0378)\n",
      "Mean R2: 0.9998 std (0.0001)\n",
      "Mean RMSE: 0.3736 std (0.0509)\n",
      "Mean MAE: 0.3097 std (0.0525)\n",
      "\n"
     ]
    }
   ],
   "source": [
    "# for each dataset we want to print the mean and std of the metrics for the best feature\n",
    "# also save them to a lookup table\n",
    "best_results = {}\n",
    "for dat in [\"Ti_TM\", \"Ti_TE\", \"Si_TE\", \"Si_TM\"]:\n",
    "    print(f\"Dataset: {dat}\")\n",
    "    # first group by feature to find the feature with lowest mean mse\n",
    "    mean_results = results_dfs[dat].groupby(\"feature\").agg({\n",
    "        \"mse\": [\"mean\",\"std\"],\n",
    "        \"r2\": [\"mean\",\"std\"],\n",
    "        \"rmse\": [\"mean\",\"std\"],\n",
    "        \"mae\": [\"mean\",\"std\"],\n",
    "        \"mse.train\": [\"mean\",\"std\"],\n",
    "        \"r2.train\": [\"mean\",\"std\"],\n",
    "        \"rmse.train\": [\"mean\",\"std\"],\n",
    "        \"mae.train\": [\"mean\",\"std\"],\n",
    "    })\n",
    "    mean_results.columns = [\"_\".join(col).strip() for col in mean_results.columns.values]\n",
    "    mean_results = mean_results.reset_index()\n",
    "    # now we want to find the feature with the lowest mean mse for training\n",
    "    best_feature_idx = mean_results[\"mse.train_mean\"].idxmin()\n",
    "    best_feature = mean_results.iloc[best_feature_idx]\n",
    "    print(f\"Best feature: {best_feature['feature']} (train MSE: {best_feature['mse.train_mean']:.4f} std ({best_feature['mse.train_std']:.4f}))\")\n",
    "    print(f\"Mean MSE: {best_feature['mse_mean']:.4f} std ({best_feature['mse_std']:.4f})\")\n",
    "    print(f\"Mean R2: {best_feature['r2_mean']:.4f} std ({best_feature['r2_std']:.4f})\")\n",
    "    print(f\"Mean RMSE: {best_feature['rmse_mean']:.4f} std ({best_feature['rmse_std']:.4f})\")\n",
    "    print(f\"Mean MAE: {best_feature['mae_mean']:.4f} std ({best_feature['mae_std']:.4f})\")\n",
    "    print()\n",
    "    # save the best feature to the lookup table\n",
    "    best_results[dat] = {\n",
    "        \"feature\": best_feature[\"feature\"],\n",
    "        \"mse_mean\": best_feature[\"mse_mean\"],\n",
    "        \"mse_std\": best_feature[\"mse_std\"],\n",
    "        \"r2_mean\": best_feature[\"r2_mean\"],\n",
    "        \"r2_std\": best_feature[\"r2_std\"],\n",
    "        \"rmse_mean\": best_feature[\"rmse_mean\"],\n",
    "        \"rmse_std\": best_feature[\"rmse_std\"],\n",
    "        \"mae_mean\": best_feature[\"mae_mean\"],\n",
    "        \"mae_std\": best_feature[\"mae_std\"],\n",
    "        \"mse.train_mean\": best_feature[\"mse.train_mean\"],\n",
    "        \"mse.train_std\": best_feature[\"mse.train_std\"], \n",
    "        \"r2.train_mean\": best_feature[\"r2.train_mean\"],\n",
    "        \"r2.train_std\": best_feature[\"r2.train_std\"],\n",
    "        \"rmse.train_mean\": best_feature[\"rmse.train_mean\"],\n",
    "        \"rmse.train_std\": best_feature[\"rmse.train_std\"],\n",
    "        \"mae.train_mean\": best_feature[\"mae.train_mean\"],\n",
    "        \"mae.train_std\": best_feature[\"mae.train_std\"],\n",
    "    }"
   ]
  },
  {
   "cell_type": "markdown",
   "metadata": {},
   "source": [
    "# Now Evaluate the performance when the entire peak is used"
   ]
  },
  {
   "cell_type": "code",
   "execution_count": 27,
   "metadata": {},
   "outputs": [
    {
     "name": "stdout",
     "output_type": "stream",
     "text": [
      "Dataset: Ti_TM\n",
      "Mean MSE: 6.6233e-05 std (2.1992e-05). 6736.42x fold improvement\n",
      "Mean R2: 1.0000 std (0.0000). 1.00x fold improvement\n",
      "Mean RMSE: 0.0080 std (0.0014). 82.52x fold improvement\n",
      "Mean MAE: 0.0066 std (0.0010). 79.74x fold improvement\n",
      "\n",
      "Dataset: Ti_TE\n",
      "Mean MSE: 1.0488e-04 std (6.4012e-05). 624.73x fold improvement\n",
      "Mean R2: 1.0000 std (0.0000). 1.00x fold improvement\n",
      "Mean RMSE: 0.0099 std (0.0031). 25.82x fold improvement\n",
      "Mean MAE: 0.0072 std (0.0016). 29.84x fold improvement\n",
      "\n",
      "Dataset: Si_TE\n",
      "Mean MSE: 2.4732e-02 std (9.9685e-03). 9.77x fold improvement\n",
      "Mean R2: 1.0000 std (0.0000). 1.00x fold improvement\n",
      "Mean RMSE: 0.1547 std (0.0314). 3.14x fold improvement\n",
      "Mean MAE: 0.1257 std (0.0288). 3.18x fold improvement\n",
      "\n",
      "Dataset: Si_TM\n",
      "Mean MSE: 1.0345e-01 std (2.1553e-01). 1.37x fold improvement\n",
      "Mean R2: 0.9999 std (0.0003). 1.00x fold improvement\n",
      "Mean RMSE: 0.2035 std (0.2785). 1.84x fold improvement\n",
      "Mean MAE: 0.0871 std (0.0670). 3.56x fold improvement\n",
      "\n"
     ]
    }
   ],
   "source": [
    "results_entire_wave_dfs = {}\n",
    "for dat in [\"Ti_TM\", \"Ti_TE\", \"Si_TE\", \"Si_TM\"]:\n",
    "    result_list = []\n",
    "    fold_i = 0\n",
    "    for train_data_pca, train_target, test_data_pca, test_target in PC_folds[dat]:\n",
    "        # now we want to use the entire wave data\n",
    "        # Fit a linear regression model\n",
    "        model = LinearRegression()\n",
    "        model.fit(train_data_pca, train_target)\n",
    "        # Make predictions\n",
    "        y_pred = model.predict(test_data_pca)\n",
    "        # Calculate MSE, R2, RMSE, MAE\n",
    "        mse = mean_squared_error(test_target, y_pred)\n",
    "        r2 = r2_score(test_target, y_pred)\n",
    "        rmse = np.sqrt(mse)\n",
    "        mae = np.mean(np.abs(test_target - y_pred))\n",
    "        # Append results to the list\n",
    "        result_list.append({\n",
    "            \"mse\": mse,\n",
    "            \"r2\": r2,\n",
    "            \"rmse\": rmse,\n",
    "            \"mae\": mae,\n",
    "            \"fold\": fold_i,\n",
    "        })\n",
    "        fold_i += 1\n",
    "    results_entire_wave_dfs[dat] = pd.DataFrame(result_list)\n",
    "\n",
    "# for each dataset we want to print the mean and std of the metrics for the best feature\n",
    "for dat in [\"Ti_TM\", \"Ti_TE\", \"Si_TE\", \"Si_TM\"]:\n",
    "    print(f\"Dataset: {dat}\")\n",
    "    # first group by feature to find the feature with lowest mean mse\n",
    "    mean_results = results_entire_wave_dfs[dat].agg({\n",
    "        \"mse\": [\"mean\",\"std\"],\n",
    "        \"r2\": [\"mean\",\"std\"],\n",
    "        \"rmse\": [\"mean\",\"std\"],\n",
    "        \"mae\": [\"mean\",\"std\"],\n",
    "    })\n",
    "    # mean_results.columns = [\"_\".join(col).strip() for col in mean_results.columns.values]\n",
    "    \n",
    "    # just print the mean and std\n",
    "    # calculate the fold improvement for mse compared to the best feature\n",
    "    fold_improvement = (mean_results[\"mse\"].values[0] / best_results[dat][\"mse_mean\"])**-1\n",
    "    print(f\"Mean MSE: {mean_results['mse'].values[0]:.4e} std ({mean_results['mse'].values[1]:.4e}). {fold_improvement:.2f}x fold improvement\")\n",
    "    fold_improvement = (mean_results[\"r2\"].values[0] / best_results[dat][\"r2_mean\"])**-1\n",
    "    print(f\"Mean R2: {mean_results['r2'].values[0]:.4f} std ({mean_results['r2'].values[1]:.4f}). {fold_improvement:.2f}x fold improvement\")\n",
    "    fold_improvement = (mean_results[\"rmse\"].values[0] / best_results[dat][\"rmse_mean\"])**-1\n",
    "    print(f\"Mean RMSE: {mean_results['rmse'].values[0]:.4f} std ({mean_results['rmse'].values[1]:.4f}). {fold_improvement:.2f}x fold improvement\")\n",
    "    fold_improvement = (mean_results[\"mae\"].values[0] / best_results[dat][\"mae_mean\"])**-1\n",
    "    print(f\"Mean MAE: {mean_results['mae'].values[0]:.4f} std ({mean_results['mae'].values[1]:.4f}). {fold_improvement:.2f}x fold improvement\")\n",
    "    print()"
   ]
  },
  {
   "cell_type": "markdown",
   "metadata": {},
   "source": [
    "# try different numbers of PCs"
   ]
  },
  {
   "cell_type": "code",
   "execution_count": 15,
   "metadata": {},
   "outputs": [
    {
     "name": "stderr",
     "output_type": "stream",
     "text": [
      "100%|██████████| 80/80 [00:00<00:00, 540.80it/s]\n",
      "100%|██████████| 80/80 [00:00<00:00, 560.36it/s]\n",
      "100%|██████████| 80/80 [00:00<00:00, 535.52it/s]\n",
      "100%|██████████| 80/80 [00:00<00:00, 550.23it/s]\n",
      "100%|██████████| 80/80 [00:00<00:00, 474.00it/s]\n",
      "100%|██████████| 80/80 [00:00<00:00, 528.60it/s]\n",
      "100%|██████████| 80/80 [00:00<00:00, 471.05it/s]\n",
      "100%|██████████| 80/80 [00:00<00:00, 437.38it/s]\n",
      "100%|██████████| 80/80 [00:00<00:00, 460.06it/s]\n",
      "100%|██████████| 80/80 [00:00<00:00, 381.04it/s]\n",
      "100%|██████████| 80/80 [00:00<00:00, 548.39it/s]\n",
      "100%|██████████| 80/80 [00:00<00:00, 562.42it/s]\n",
      "100%|██████████| 80/80 [00:00<00:00, 575.27it/s]\n",
      "100%|██████████| 80/80 [00:00<00:00, 521.40it/s]\n",
      "100%|██████████| 80/80 [00:00<00:00, 493.59it/s]\n",
      "100%|██████████| 80/80 [00:00<00:00, 494.38it/s]\n",
      "100%|██████████| 80/80 [00:00<00:00, 518.59it/s]\n",
      "100%|██████████| 80/80 [00:00<00:00, 548.58it/s]\n",
      "100%|██████████| 80/80 [00:00<00:00, 558.27it/s]\n",
      "100%|██████████| 80/80 [00:00<00:00, 525.07it/s]\n"
     ]
    }
   ],
   "source": [
    "nPCs_results_dfs = {}\n",
    "for dat in [\"Ti_TM\", \"Ti_TE\", \"Si_TE\", \"Si_TM\"]:\n",
    "    result_list = []\n",
    "    fold_i = 0\n",
    "    for train_data_pca, train_target, test_data_pca, test_target in PC_folds[dat]:\n",
    "        for nPCs in tqdm(range(1, 81)):\n",
    "            # now we want to use the entire wave data\n",
    "            # Fit a linear regression model\n",
    "            model = LinearRegression()\n",
    "            model.fit(train_data_pca[:, :nPCs], train_target)\n",
    "            # Make predictions\n",
    "            y_pred = model.predict(test_data_pca[:, :nPCs])\n",
    "            # Calculate MSE, R2, RMSE, MAE\n",
    "            mse = mean_squared_error(test_target, y_pred)\n",
    "            r2 = r2_score(test_target, y_pred)\n",
    "            rmse = np.sqrt(mse)\n",
    "            mae = np.mean(np.abs(test_target - y_pred))\n",
    "            # Append results to the list\n",
    "            result_list.append({\n",
    "                \"nPCs\": nPCs,\n",
    "                \"mse\": mse,\n",
    "                \"r2\": r2,\n",
    "                \"rmse\": rmse,\n",
    "                \"mae\": mae,\n",
    "                \"fold\": fold_i,\n",
    "            })\n",
    "        fold_i += 1\n",
    "    nPCs_results_dfs[dat] = pd.DataFrame(result_list)"
   ]
  },
  {
   "cell_type": "code",
   "execution_count": 21,
   "metadata": {},
   "outputs": [
    {
     "data": {
      "image/png": "[encoded data removed]",
      "text/plain": [
       "<Figure size 1200x800 with 4 Axes>"
      ]
     },
     "metadata": {},
     "output_type": "display_data"
    }
   ],
   "source": [
    "# create a 2x2 grid of subplots\n",
    "fig, axs = plt.subplots(2, 2, figsize=(12, 8))\n",
    "\n",
    "all_PCs_mean_results = {}\n",
    "\n",
    "# flatten the axs array for easy indexing\n",
    "axs = axs.flatten()\n",
    "# loop through each dataset and plot the results\n",
    "for i, dat in enumerate([\"Ti_TM\", \"Ti_TE\", \"Si_TE\", \"Si_TM\"]):\n",
    "    df = pd.DataFrame(nPCs_results_dfs[dat])\n",
    "    # group by nPCs and calculate the mean and std\n",
    "    mean_results = df.groupby(\"nPCs\").agg({\n",
    "        \"mse\": [\"mean\", \"std\"],\n",
    "        \"r2\": [\"mean\", \"std\"],\n",
    "        \"rmse\": [\"mean\", \"std\"],\n",
    "        \"mae\": [\"mean\", \"std\"],\n",
    "    })\n",
    "    mean_results.columns = [\"_\".join(col).strip() for col in mean_results.columns.values]\n",
    "    all_PCs_mean_results[dat] = mean_results.reset_index()\n",
    "    # plot a lineplot of nPCs vs mse\n",
    "    axs[i].errorbar(mean_results.index, mean_results[\"mse_mean\"], yerr=mean_results[\"mse_std\"], label=\"MSE\", fmt='-o', color='blue')\n",
    "    # set the title to the dataset name\n",
    "    axs[i].set_title(dat)\n",
    "    axs[i].set_xlabel(\"Number of PCs\")\n",
    "    axs[i].set_ylabel(\"5-fold test MSE\")\n",
    "\n",
    "    # add an orange dashed line for the best feature mse\n",
    "    best_feat_mse = best_results[dat][\"mse_mean\"]\n",
    "    axs[i].axhline(y=best_feat_mse, color='orange', linestyle='--', label=\"Best Feature MSE\")\n",
    "\n",
    "plt.tight_layout()\n",
    "plt.show()"
   ]
  },
  {
   "cell_type": "markdown",
   "metadata": {},
   "source": [
    "This figure shows the change in MSE for each of the 4 datasets as we increase the number of principal components used in the machine learning model with the blue lines. The points represent the mean 5-fold cross-validation hold-out mean-squared error (MSE) across the different principal components used. The vertical bars represent the standard devation in hold-out MSE across the 5 folds for each point. The horizontal orange line represents the mean hold-out MSE when only the best single predictor was used. The PCA model was fit on the training data only (which is why it is capped at only 80 features). The hold-out data was transformed into the PC space generated by the training data. Since PC space is generated without knowledge of the labels. The first principal component may not capture the most relevant dimension to the labels. The order of the PCs reflects the variation explained from the training data. But for the first 3 datasets we can see that the first few PCs capture most of the signal associated with labels and generally outperforms the best single predictor with only marginal improvements in MSE when more PCs are added."
   ]
  },
  {
   "cell_type": "code",
   "execution_count": 18,
   "metadata": {},
   "outputs": [],
   "source": [
    "# save the all PCs_mean_results to a xlsx file one to a sheet\n",
    "with pd.ExcelWriter(\"all_PCs_mean_results.xlsx\") as writer:\n",
    "    for dat in all_PCs_mean_results.keys():\n",
    "        all_PCs_mean_results[dat].to_excel(writer, sheet_name=dat, index=False)"
   ]
  },
  {
   "cell_type": "markdown",
   "metadata": {},
   "source": [
    "# save the actual and fitted values for the best ML model for each dataset"
   ]
  },
  {
   "cell_type": "code",
   "execution_count": 28,
   "metadata": {},
   "outputs": [],
   "source": [
    "pred_fitted_results_entire_wave_dfs = {}\n",
    "for dat in [\"Ti_TM\", \"Ti_TE\", \"Si_TE\", \"Si_TM\"]:\n",
    "    result_df = None\n",
    "    fold_i = 0\n",
    "    for train_data_pca, train_target, test_data_pca, test_target in PC_folds[dat]:\n",
    "        # now we want to use the entire wave data\n",
    "        # Fit a linear regression model\n",
    "        model = LinearRegression()\n",
    "        model.fit(train_data_pca, train_target)\n",
    "        # Make predictions\n",
    "        y_pred = model.predict(test_data_pca)\n",
    "        \n",
    "        # now I want to create a dataframe with the true, predicted, and train/test labels\n",
    "        pred_fitted_test_df = pd.DataFrame({\n",
    "            \"true\": test_target,\n",
    "            f\"predicted_fold{fold_i}\": y_pred,\n",
    "            f\"train/test_fold{fold_i}\": [\"test\"] * len(test_target),\n",
    "        })\n",
    "        # now I want to create a dataframe with the true, predicted, and train/test labels for the training data\n",
    "        pred_fitted_train_df = pd.DataFrame({\n",
    "            \"true\": train_target,\n",
    "            f\"predicted_fold{fold_i}\": model.predict(train_data_pca),\n",
    "            f\"train/test_fold{fold_i}\": [\"train\"] * len(train_target),\n",
    "        })\n",
    "        # now I want to concatenate the two dataframes\n",
    "        pred_fitted_df = pd.concat([pred_fitted_train_df, pred_fitted_test_df])\n",
    "        fold_i += 1\n",
    "        if result_df is None:\n",
    "            result_df = pred_fitted_df\n",
    "        else:\n",
    "            result_df = result_df.merge(pred_fitted_df, on=\"true\", how=\"outer\")\n",
    "    pred_fitted_results_entire_wave_dfs[dat] = result_df"
   ]
  },
  {
   "cell_type": "code",
   "execution_count": 29,
   "metadata": {},
   "outputs": [],
   "source": [
    "# save the pred_fitted_results_entire_wave_dfs to a xlsx file one to a sheet\n",
    "with pd.ExcelWriter(\"pred_fitted_results_entire_wave_dfs.xlsx\") as writer:\n",
    "    for dat in pred_fitted_results_entire_wave_dfs.keys():\n",
    "        pred_fitted_results_entire_wave_dfs[dat].to_excel(writer, sheet_name=dat, index=False)"
   ]
  }
 ],
 "metadata": {
  "kernelspec": {
   "display_name": "colorimetry_ML-6CtRR2jE",
   "language": "python",
   "name": "python3"
  },
  "language_info": {
   "codemirror_mode": {
    "name": "ipython",
    "version": 3
   },
   "file_extension": ".py",
   "mimetype": "text/x-python",
   "name": "python",
   "nbconvert_exporter": "python",
   "pygments_lexer": "ipython3",
   "version": "3.10.6"
  }
 },
 "nbformat": 4,
 "nbformat_minor": 2
}
