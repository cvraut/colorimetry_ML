{
 "cells": [
  {
   "cell_type": "markdown",
   "metadata": {},
   "source": [
    "# Study the MSE"
   ]
  },
  {
   "cell_type": "markdown",
   "metadata": {},
   "source": [
    "So the MSE that Majid is refering to is the MSE obtained by regressing the absorbances against the concentrations at the wavelength of greatest variance in absorbances.\n",
    "\n",
    "Majid's hypothesis is that: \"by incorporating more data than just the absorbances at the single wavelength of greatest variance, we can significantly reduce the MSE.\n",
    "\n",
    "To test this I will:\n",
    "1. calculate what the MSE is at the wavelength of highest variance\n",
    "2. test increasingly larger windows around the wavelength of highest variance\n",
    "   1. fix additional points to 4\n",
    "   2. test 10 nm around wavelength of highest variance\n",
    "   3. test 20 nm \" \" \" \" \"\n",
    "   4. test 40 nm \" \" \" \" \"\n",
    "3. with the optimal window size from above, test different densities of input data\n",
    "   1. 4 points (ctrl)\n",
    "   2. 8 points\n",
    "   3. 16 points\n",
    "   4. 32 points\n",
    "4. Note: for all modeling I will use a L1-penalized linear regression model (LASSO)"
   ]
  },
  {
   "cell_type": "markdown",
   "metadata": {},
   "source": [
    "# load imports and data"
   ]
  },
  {
   "cell_type": "code",
   "execution_count": 57,
   "metadata": {},
   "outputs": [],
   "source": [
    "import statsmodels.api as sm\n",
    "import pandas as pd\n",
    "import numpy as np\n",
    "# use lasso from sklearn\n",
    "from sklearn.linear_model import Lasso"
   ]
  },
  {
   "cell_type": "code",
   "execution_count": 19,
   "metadata": {},
   "outputs": [],
   "source": [
    "# load the data from the previous part\n",
    "data = pd.read_csv('../p01_extract_data_from_fig/colorimetry_data_PS_extracted.csv')\n",
    "data.rename(columns={'Wavelength (nm)':\"wavelength\",'Smoothed Absorbance':\"sm_absorbance\"}, inplace=True)"
   ]
  },
  {
   "cell_type": "markdown",
   "metadata": {},
   "source": [
    "# Determine Wavelength of highest Variance and fit model"
   ]
  },
  {
   "cell_type": "code",
   "execution_count": 20,
   "metadata": {},
   "outputs": [
    {
     "name": "stdout",
     "output_type": "stream",
     "text": [
      "652.1784232365146 0.003993509394281987\n"
     ]
    }
   ],
   "source": [
    "wv_highest_variance = None\n",
    "for wv in np.unique(data['wavelength']):\n",
    "    df = data[data['wavelength'] == wv]\n",
    "    if wv_highest_variance is None or df['sm_absorbance'].var() > wv_highest_variance['sm_absorbance'].var():\n",
    "        wv_highest_variance = df\n",
    "print(wv_highest_variance['wavelength'].values[0],wv_highest_variance['sm_absorbance'].var())"
   ]
  },
  {
   "cell_type": "code",
   "execution_count": 15,
   "metadata": {},
   "outputs": [
    {
     "data": {
      "text/html": [
       "<div>\n",
       "<style scoped>\n",
       "    .dataframe tbody tr th:only-of-type {\n",
       "        vertical-align: middle;\n",
       "    }\n",
       "\n",
       "    .dataframe tbody tr th {\n",
       "        vertical-align: top;\n",
       "    }\n",
       "\n",
       "    .dataframe thead th {\n",
       "        text-align: right;\n",
       "    }\n",
       "</style>\n",
       "<table border=\"1\" class=\"dataframe\">\n",
       "  <thead>\n",
       "    <tr style=\"text-align: right;\">\n",
       "      <th></th>\n",
       "      <th>Wavelength (nm)</th>\n",
       "      <th>Absorbance</th>\n",
       "      <th>Color</th>\n",
       "      <th>Concentration</th>\n",
       "      <th>Smoothed Absorbance</th>\n",
       "      <th>webcolor</th>\n",
       "    </tr>\n",
       "  </thead>\n",
       "  <tbody>\n",
       "    <tr>\n",
       "      <th>195</th>\n",
       "      <td>652.178423</td>\n",
       "      <td>0.284016</td>\n",
       "      <td>black</td>\n",
       "      <td>0</td>\n",
       "      <td>0.282795</td>\n",
       "      <td>#000000</td>\n",
       "    </tr>\n",
       "    <tr>\n",
       "      <th>578</th>\n",
       "      <td>652.178423</td>\n",
       "      <td>0.275820</td>\n",
       "      <td>red</td>\n",
       "      <td>5</td>\n",
       "      <td>0.275289</td>\n",
       "      <td>#FF0001</td>\n",
       "    </tr>\n",
       "    <tr>\n",
       "      <th>961</th>\n",
       "      <td>652.178423</td>\n",
       "      <td>0.240574</td>\n",
       "      <td>blue</td>\n",
       "      <td>10</td>\n",
       "      <td>0.239817</td>\n",
       "      <td>#0D0CF9</td>\n",
       "    </tr>\n",
       "    <tr>\n",
       "      <th>1344</th>\n",
       "      <td>652.178423</td>\n",
       "      <td>0.224180</td>\n",
       "      <td>green</td>\n",
       "      <td>20</td>\n",
       "      <td>0.224142</td>\n",
       "      <td>#017F03</td>\n",
       "    </tr>\n",
       "    <tr>\n",
       "      <th>1727</th>\n",
       "      <td>652.178423</td>\n",
       "      <td>0.191393</td>\n",
       "      <td>pink</td>\n",
       "      <td>30</td>\n",
       "      <td>0.190823</td>\n",
       "      <td>#FF02FF</td>\n",
       "    </tr>\n",
       "    <tr>\n",
       "      <th>2110</th>\n",
       "      <td>652.178423</td>\n",
       "      <td>0.159426</td>\n",
       "      <td>magenta</td>\n",
       "      <td>40</td>\n",
       "      <td>0.159388</td>\n",
       "      <td>#8604B4</td>\n",
       "    </tr>\n",
       "    <tr>\n",
       "      <th>2493</th>\n",
       "      <td>652.178423</td>\n",
       "      <td>0.144672</td>\n",
       "      <td>navy</td>\n",
       "      <td>50</td>\n",
       "      <td>0.144475</td>\n",
       "      <td>#0203A6</td>\n",
       "    </tr>\n",
       "    <tr>\n",
       "      <th>2876</th>\n",
       "      <td>652.178423</td>\n",
       "      <td>0.128279</td>\n",
       "      <td>orange</td>\n",
       "      <td>60</td>\n",
       "      <td>0.128354</td>\n",
       "      <td>#FF870C</td>\n",
       "    </tr>\n",
       "    <tr>\n",
       "      <th>3259</th>\n",
       "      <td>652.178423</td>\n",
       "      <td>0.123361</td>\n",
       "      <td>purple</td>\n",
       "      <td>80</td>\n",
       "      <td>0.122924</td>\n",
       "      <td>#9011EE</td>\n",
       "    </tr>\n",
       "    <tr>\n",
       "      <th>3642</th>\n",
       "      <td>652.178423</td>\n",
       "      <td>0.118443</td>\n",
       "      <td>salmon</td>\n",
       "      <td>100</td>\n",
       "      <td>0.118463</td>\n",
       "      <td>#FF0381</td>\n",
       "    </tr>\n",
       "  </tbody>\n",
       "</table>\n",
       "</div>"
      ],
      "text/plain": [
       "      Wavelength (nm)  Absorbance    Color  Concentration  \\\n",
       "195        652.178423    0.284016    black              0   \n",
       "578        652.178423    0.275820      red              5   \n",
       "961        652.178423    0.240574     blue             10   \n",
       "1344       652.178423    0.224180    green             20   \n",
       "1727       652.178423    0.191393     pink             30   \n",
       "2110       652.178423    0.159426  magenta             40   \n",
       "2493       652.178423    0.144672     navy             50   \n",
       "2876       652.178423    0.128279   orange             60   \n",
       "3259       652.178423    0.123361   purple             80   \n",
       "3642       652.178423    0.118443   salmon            100   \n",
       "\n",
       "      Smoothed Absorbance webcolor  \n",
       "195              0.282795  #000000  \n",
       "578              0.275289  #FF0001  \n",
       "961              0.239817  #0D0CF9  \n",
       "1344             0.224142  #017F03  \n",
       "1727             0.190823  #FF02FF  \n",
       "2110             0.159388  #8604B4  \n",
       "2493             0.144475  #0203A6  \n",
       "2876             0.128354  #FF870C  \n",
       "3259             0.122924  #9011EE  \n",
       "3642             0.118463  #FF0381  "
      ]
     },
     "execution_count": 15,
     "metadata": {},
     "output_type": "execute_result"
    }
   ],
   "source": [
    "wv_highest_variance"
   ]
  },
  {
   "cell_type": "code",
   "execution_count": 21,
   "metadata": {},
   "outputs": [
    {
     "name": "stdout",
     "output_type": "stream",
     "text": [
      "168.79064786196122\n"
     ]
    },
    {
     "name": "stderr",
     "output_type": "stream",
     "text": [
      "c:\\Users\\craut\\.virtualenvs\\colorimetry_ML-6CtRR2jE\\lib\\site-packages\\scipy\\stats\\_axis_nan_policy.py:430: UserWarning: `kurtosistest` p-value may be inaccurate with fewer than 20 observations; only n=10 observations were given.\n",
      "  return hypotest_fun_in(*args, **kwds)\n"
     ]
    },
    {
     "data": {
      "text/html": [
       "<table class=\"simpletable\">\n",
       "<caption>OLS Regression Results</caption>\n",
       "<tr>\n",
       "  <th>Dep. Variable:</th>      <td>Concentration</td>  <th>  R-squared:         </th> <td>   0.864</td>\n",
       "</tr>\n",
       "<tr>\n",
       "  <th>Model:</th>                   <td>OLS</td>       <th>  Adj. R-squared:    </th> <td>   0.847</td>\n",
       "</tr>\n",
       "<tr>\n",
       "  <th>Method:</th>             <td>Least Squares</td>  <th>  F-statistic:       </th> <td>   50.79</td>\n",
       "</tr>\n",
       "<tr>\n",
       "  <th>Date:</th>             <td>Mon, 10 Feb 2025</td> <th>  Prob (F-statistic):</th> <td>9.94e-05</td>\n",
       "</tr>\n",
       "<tr>\n",
       "  <th>Time:</th>                 <td>23:45:12</td>     <th>  Log-Likelihood:    </th> <td> -38.717</td>\n",
       "</tr>\n",
       "<tr>\n",
       "  <th>No. Observations:</th>      <td>    10</td>      <th>  AIC:               </th> <td>   81.43</td>\n",
       "</tr>\n",
       "<tr>\n",
       "  <th>Df Residuals:</th>          <td>     8</td>      <th>  BIC:               </th> <td>   82.04</td>\n",
       "</tr>\n",
       "<tr>\n",
       "  <th>Df Model:</th>              <td>     1</td>      <th>                     </th>     <td> </td>   \n",
       "</tr>\n",
       "<tr>\n",
       "  <th>Covariance Type:</th>      <td>nonrobust</td>    <th>                     </th>     <td> </td>   \n",
       "</tr>\n",
       "</table>\n",
       "<table class=\"simpletable\">\n",
       "<tr>\n",
       "        <td></td>           <th>coef</th>     <th>std err</th>      <th>t</th>      <th>P>|t|</th>  <th>[0.025</th>    <th>0.975]</th>  \n",
       "</tr>\n",
       "<tr>\n",
       "  <th>Intercept</th>     <td>  131.6291</td> <td>   13.565</td> <td>    9.704</td> <td> 0.000</td> <td>  100.348</td> <td>  162.910</td>\n",
       "</tr>\n",
       "<tr>\n",
       "  <th>sm_absorbance</th> <td> -488.3677</td> <td>   68.529</td> <td>   -7.126</td> <td> 0.000</td> <td> -646.396</td> <td> -330.339</td>\n",
       "</tr>\n",
       "</table>\n",
       "<table class=\"simpletable\">\n",
       "<tr>\n",
       "  <th>Omnibus:</th>       <td> 3.152</td> <th>  Durbin-Watson:     </th> <td>   0.635</td>\n",
       "</tr>\n",
       "<tr>\n",
       "  <th>Prob(Omnibus):</th> <td> 0.207</td> <th>  Jarque-Bera (JB):  </th> <td>   1.323</td>\n",
       "</tr>\n",
       "<tr>\n",
       "  <th>Skew:</th>          <td> 0.891</td> <th>  Prob(JB):          </th> <td>   0.516</td>\n",
       "</tr>\n",
       "<tr>\n",
       "  <th>Kurtosis:</th>      <td> 2.997</td> <th>  Cond. No.          </th> <td>    17.3</td>\n",
       "</tr>\n",
       "</table><br/><br/>Notes:<br/>[1] Standard Errors assume that the covariance matrix of the errors is correctly specified."
      ],
      "text/latex": [
       "\\begin{center}\n",
       "\\begin{tabular}{lclc}\n",
       "\\toprule\n",
       "\\textbf{Dep. Variable:}    &  Concentration   & \\textbf{  R-squared:         } &     0.864   \\\\\n",
       "\\textbf{Model:}            &       OLS        & \\textbf{  Adj. R-squared:    } &     0.847   \\\\\n",
       "\\textbf{Method:}           &  Least Squares   & \\textbf{  F-statistic:       } &     50.79   \\\\\n",
       "\\textbf{Date:}             & Mon, 10 Feb 2025 & \\textbf{  Prob (F-statistic):} &  9.94e-05   \\\\\n",
       "\\textbf{Time:}             &     23:45:12     & \\textbf{  Log-Likelihood:    } &   -38.717   \\\\\n",
       "\\textbf{No. Observations:} &          10      & \\textbf{  AIC:               } &     81.43   \\\\\n",
       "\\textbf{Df Residuals:}     &           8      & \\textbf{  BIC:               } &     82.04   \\\\\n",
       "\\textbf{Df Model:}         &           1      & \\textbf{                     } &             \\\\\n",
       "\\textbf{Covariance Type:}  &    nonrobust     & \\textbf{                     } &             \\\\\n",
       "\\bottomrule\n",
       "\\end{tabular}\n",
       "\\begin{tabular}{lcccccc}\n",
       "                        & \\textbf{coef} & \\textbf{std err} & \\textbf{t} & \\textbf{P$> |$t$|$} & \\textbf{[0.025} & \\textbf{0.975]}  \\\\\n",
       "\\midrule\n",
       "\\textbf{Intercept}      &     131.6291  &       13.565     &     9.704  &         0.000        &      100.348    &      162.910     \\\\\n",
       "\\textbf{sm\\_absorbance} &    -488.3677  &       68.529     &    -7.126  &         0.000        &     -646.396    &     -330.339     \\\\\n",
       "\\bottomrule\n",
       "\\end{tabular}\n",
       "\\begin{tabular}{lclc}\n",
       "\\textbf{Omnibus:}       &  3.152 & \\textbf{  Durbin-Watson:     } &    0.635  \\\\\n",
       "\\textbf{Prob(Omnibus):} &  0.207 & \\textbf{  Jarque-Bera (JB):  } &    1.323  \\\\\n",
       "\\textbf{Skew:}          &  0.891 & \\textbf{  Prob(JB):          } &    0.516  \\\\\n",
       "\\textbf{Kurtosis:}      &  2.997 & \\textbf{  Cond. No.          } &     17.3  \\\\\n",
       "\\bottomrule\n",
       "\\end{tabular}\n",
       "%\\caption{OLS Regression Results}\n",
       "\\end{center}\n",
       "\n",
       "Notes: \\newline\n",
       " [1] Standard Errors assume that the covariance matrix of the errors is correctly specified."
      ],
      "text/plain": [
       "<class 'statsmodels.iolib.summary.Summary'>\n",
       "\"\"\"\n",
       "                            OLS Regression Results                            \n",
       "==============================================================================\n",
       "Dep. Variable:          Concentration   R-squared:                       0.864\n",
       "Model:                            OLS   Adj. R-squared:                  0.847\n",
       "Method:                 Least Squares   F-statistic:                     50.79\n",
       "Date:                Mon, 10 Feb 2025   Prob (F-statistic):           9.94e-05\n",
       "Time:                        23:45:12   Log-Likelihood:                -38.717\n",
       "No. Observations:                  10   AIC:                             81.43\n",
       "Df Residuals:                       8   BIC:                             82.04\n",
       "Df Model:                           1                                         \n",
       "Covariance Type:            nonrobust                                         \n",
       "=================================================================================\n",
       "                    coef    std err          t      P>|t|      [0.025      0.975]\n",
       "---------------------------------------------------------------------------------\n",
       "Intercept       131.6291     13.565      9.704      0.000     100.348     162.910\n",
       "sm_absorbance  -488.3677     68.529     -7.126      0.000    -646.396    -330.339\n",
       "==============================================================================\n",
       "Omnibus:                        3.152   Durbin-Watson:                   0.635\n",
       "Prob(Omnibus):                  0.207   Jarque-Bera (JB):                1.323\n",
       "Skew:                           0.891   Prob(JB):                        0.516\n",
       "Kurtosis:                       2.997   Cond. No.                         17.3\n",
       "==============================================================================\n",
       "\n",
       "Notes:\n",
       "[1] Standard Errors assume that the covariance matrix of the errors is correctly specified.\n",
       "\"\"\""
      ]
     },
     "execution_count": 21,
     "metadata": {},
     "output_type": "execute_result"
    }
   ],
   "source": [
    "# fit an OLS model with absorbance as the dependent variable and the concentration as the independent variable\n",
    "# use R model syntax\n",
    "model = sm.OLS.from_formula('Concentration ~ sm_absorbance', data=wv_highest_variance)\n",
    "results = model.fit()\n",
    "# print the MSE of the model\n",
    "print(results.mse_resid)\n",
    "results.summary()"
   ]
  },
  {
   "cell_type": "markdown",
   "metadata": {},
   "source": [
    "# Test different windows of 4 surrounding points"
   ]
  },
  {
   "cell_type": "code",
   "execution_count": 37,
   "metadata": {},
   "outputs": [
    {
     "data": {
      "text/plain": [
       "np.float64(9.854771784232412)"
      ]
     },
     "execution_count": 37,
     "metadata": {},
     "output_type": "execute_result"
    }
   ],
   "source": [
    "# first establish approximately how many wavelengths in the data correspond to ~10 nm intervals\n",
    "wavelengths = sorted(np.unique(data['wavelength']))\n",
    "wavelengths[19] - wavelengths[0]"
   ]
  },
  {
   "cell_type": "code",
   "execution_count": 71,
   "metadata": {},
   "outputs": [
    {
     "name": "stdout",
     "output_type": "stream",
     "text": [
      "[np.float64(632.4688796680498), np.float64(642.3236514522822), np.float64(652.1784232365146), np.float64(662.0331950207469), np.float64(671.8879668049793)]\n",
      "126.34437560878428\n",
      "1\n",
      "[np.float64(612.7593360995851), np.float64(632.4688796680498), np.float64(652.1784232365146), np.float64(671.8879668049793), np.float64(691.597510373444)]\n",
      "118.94977957056707\n",
      "2\n",
      "[np.float64(573.3402489626556), np.float64(612.7593360995851), np.float64(652.1784232365146), np.float64(691.597510373444), np.float64(731.0165975103735)]\n",
      "116.33852509509659\n",
      "2\n"
     ]
    }
   ],
   "source": [
    "# so about every 19 wavelength records corresponds to a 10 nm interval\n",
    "conversion_factor = 19\n",
    "dists = [1,2,4]\n",
    "# get the index corresponding to the wv_highest_variance\n",
    "idx = np.where(wavelengths == wv_highest_variance['wavelength'].values[0])[0][0]\n",
    "for dist in dists:\n",
    "    wavelengths_to_use = wavelengths[idx-(2*dist*conversion_factor):idx+(2*dist*conversion_factor)+1:(dist*conversion_factor)]\n",
    "    print(wavelengths_to_use)\n",
    "    df = pd.DataFrame(data[data['wavelength'].isin(wavelengths_to_use)])\n",
    "    df[\"wavelength\"] = df[\"wavelength\"].round().astype(int)\n",
    "    # convert the data to wide format\n",
    "    df = df.pivot(index='Concentration', columns='wavelength', values='sm_absorbance')\n",
    "    rename_dict = {c:f\"abs_wv_{c}\" for c in df.columns}\n",
    "    df = df.rename(columns=rename_dict).reset_index()\n",
    "    # fit a lasso model with the data from the selected wavelengths\n",
    "    # using sklearn\n",
    "    X = df.drop(columns=['Concentration'])\n",
    "    # add a constant column to the data\n",
    "    X = sm.add_constant(X)\n",
    "    y = df['Concentration']\n",
    "    lasso = Lasso(alpha=0.005)\n",
    "    lasso.fit(X, y)\n",
    "    # get the MSE of the model\n",
    "    y_pred = lasso.predict(X)\n",
    "    mse = np.mean((y - y_pred)**2)\n",
    "    print(mse)\n",
    "    # get the number of non-zero coefficients\n",
    "    print(np.sum(lasso.coef_ != 0))\n",
    "    \n",
    "    "
   ]
  },
  {
   "cell_type": "code",
   "execution_count": 69,
   "metadata": {},
   "outputs": [
    {
     "data": {
      "text/plain": [
       "array([   0.        , -280.40057676, -550.26011551,   -0.        ,\n",
       "          0.        ,   -0.        ])"
      ]
     },
     "execution_count": 69,
     "metadata": {},
     "output_type": "execute_result"
    }
   ],
   "source": [
    "lasso.coef_"
   ]
  }
 ],
 "metadata": {
  "kernelspec": {
   "display_name": "colorimetry_ML-6CtRR2jE",
   "language": "python",
   "name": "python3"
  },
  "language_info": {
   "codemirror_mode": {
    "name": "ipython",
    "version": 3
   },
   "file_extension": ".py",
   "mimetype": "text/x-python",
   "name": "python",
   "nbconvert_exporter": "python",
   "pygments_lexer": "ipython3",
   "version": "3.10.6"
  }
 },
 "nbformat": 4,
 "nbformat_minor": 2
}
